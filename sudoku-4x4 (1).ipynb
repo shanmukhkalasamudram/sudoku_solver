{
 "cells": [
  {
   "cell_type": "code",
   "execution_count": 19,
   "metadata": {},
   "outputs": [],
   "source": [
    "#enter your sudoku puzzle 4*4 matrix, Replace with . if its need to be defined and click on run \n",
    "from copy import deepcopy\n",
    "\n",
    "Grid = [['3', '4', '1', '.'],\n",
    "        ['.', '2', '.', '.'],\n",
    "        ['.', '.', '2', '.'],\n",
    "        ['.', '1', '4', '3']]\n",
    "\n",
    "elements = ['1','2','3','4']"
   ]
  },
  {
   "cell_type": "code",
   "execution_count": 20,
   "metadata": {},
   "outputs": [],
   "source": [
    "def get_rows(new_Grid):\n",
    "    rows = []\n",
    "    for i in range(0,4):\n",
    "        row = {}\n",
    "        for y in range(0,4):\n",
    "            row[(i,y)] = new_Grid[i][y]\n",
    "        rows.append(row)\n",
    "    return rows\n",
    "\n"
   ]
  },
  {
   "cell_type": "code",
   "execution_count": 21,
   "metadata": {},
   "outputs": [
    {
     "name": "stdout",
     "output_type": "stream",
     "text": [
      "{(0, 0): '3', (0, 1): '4', (0, 2): '1', (0, 3): '.'}\n",
      "{(1, 0): '.', (1, 1): '2', (1, 2): '.', (1, 3): '.'}\n",
      "{(2, 0): '.', (2, 1): '.', (2, 2): '2', (2, 3): '.'}\n",
      "{(3, 0): '.', (3, 1): '1', (3, 2): '4', (3, 3): '3'}\n"
     ]
    }
   ],
   "source": [
    "#existing rows\n",
    "rows = get_rows(Grid)\n",
    "for r in rows:\n",
    "    print(r)"
   ]
  },
  {
   "cell_type": "code",
   "execution_count": 22,
   "metadata": {},
   "outputs": [],
   "source": [
    "def get_cols(new_Grid):\n",
    "    cols = []\n",
    "    for i in range(0,4):\n",
    "        col = {}\n",
    "        for x in range(0,4):\n",
    "            col[(x,i)] = new_Grid[x][i]\n",
    "        cols.append(col)\n",
    "    return cols"
   ]
  },
  {
   "cell_type": "code",
   "execution_count": 23,
   "metadata": {},
   "outputs": [
    {
     "name": "stdout",
     "output_type": "stream",
     "text": [
      "{(0, 0): '3', (1, 0): '.', (2, 0): '.', (3, 0): '.'}\n",
      "{(0, 1): '4', (1, 1): '2', (2, 1): '.', (3, 1): '1'}\n",
      "{(0, 2): '1', (1, 2): '.', (2, 2): '2', (3, 2): '4'}\n",
      "{(0, 3): '.', (1, 3): '.', (2, 3): '.', (3, 3): '3'}\n"
     ]
    }
   ],
   "source": [
    "\n",
    "\n",
    "# Existing columns \n",
    "cols = get_cols(Grid)\n",
    "for c in cols:\n",
    "    print(c)"
   ]
  },
  {
   "cell_type": "code",
   "execution_count": 24,
   "metadata": {},
   "outputs": [],
   "source": [
    "square_indx = [[(0,1),(0,1)],  #for sub squares \n",
    "               [(0,1),(2,3)],\n",
    "               [(2,3),(0,1)],\n",
    "               [(2,3),(2,3)]]\n",
    "\n",
    "def get_squares(new_Grid):\n",
    "    squares = []\n",
    "    for i in range(0,4):\n",
    "        square = {}\n",
    "        for x in square_indx[i][0]:\n",
    "            for y in square_indx[i][1]:\n",
    "                square[(x,y)] = new_Grid[x][y]\n",
    "        squares.append(square)\n",
    "    return squares"
   ]
  },
  {
   "cell_type": "code",
   "execution_count": 25,
   "metadata": {},
   "outputs": [
    {
     "name": "stdout",
     "output_type": "stream",
     "text": [
      "{(0, 0): '3', (0, 1): '4', (1, 0): '.', (1, 1): '2'}\n",
      "{(0, 2): '1', (0, 3): '.', (1, 2): '.', (1, 3): '.'}\n",
      "{(2, 0): '.', (2, 1): '.', (3, 0): '.', (3, 1): '1'}\n",
      "{(2, 2): '2', (2, 3): '.', (3, 2): '4', (3, 3): '3'}\n"
     ]
    }
   ],
   "source": [
    "## Grids \n",
    "squares = get_squares(Grid)\n",
    "for sq in squares:\n",
    "    print(sq)"
   ]
  },
  {
   "cell_type": "code",
   "execution_count": 26,
   "metadata": {},
   "outputs": [],
   "source": [
    "def get_all_related_cells(new_Grid):     # define new sudoku \n",
    "    squares = get_squares(new_Grid) #from get_squares function for rule 4 \n",
    "    rows = get_rows(new_Grid)       #from getrows function\n",
    "    cols = get_cols(new_Grid)      # from getcols \n",
    "    all_vec = squares + rows + cols\n",
    "    return all_vec"
   ]
  },
  {
   "cell_type": "code",
   "execution_count": 27,
   "metadata": {},
   "outputs": [
    {
     "name": "stdout",
     "output_type": "stream",
     "text": [
      "{(0, 0): '3', (0, 1): '4', (1, 0): '.', (1, 1): '2'}\n",
      "{(0, 2): '1', (0, 3): '.', (1, 2): '.', (1, 3): '.'}\n",
      "{(2, 0): '.', (2, 1): '.', (3, 0): '.', (3, 1): '1'}\n",
      "{(2, 2): '2', (2, 3): '.', (3, 2): '4', (3, 3): '3'}\n",
      "{(0, 0): '3', (0, 1): '4', (0, 2): '1', (0, 3): '.'}\n",
      "{(1, 0): '.', (1, 1): '2', (1, 2): '.', (1, 3): '.'}\n",
      "{(2, 0): '.', (2, 1): '.', (2, 2): '2', (2, 3): '.'}\n",
      "{(3, 0): '.', (3, 1): '1', (3, 2): '4', (3, 3): '3'}\n",
      "{(0, 0): '3', (1, 0): '.', (2, 0): '.', (3, 0): '.'}\n",
      "{(0, 1): '4', (1, 1): '2', (2, 1): '.', (3, 1): '1'}\n",
      "{(0, 2): '1', (1, 2): '.', (2, 2): '2', (3, 2): '4'}\n",
      "{(0, 3): '.', (1, 3): '.', (2, 3): '.', (3, 3): '3'}\n"
     ]
    }
   ],
   "source": [
    "# printing for the above grid we get 12 dictionary \n",
    "all_vec = get_all_related_cells(Grid)\n",
    "for vector in all_vec:\n",
    "    print(vector)"
   ]
  },
  {
   "cell_type": "code",
   "execution_count": 28,
   "metadata": {},
   "outputs": [],
   "source": [
    "def get_new_r_c(r, c):\n",
    "    if c==3:\n",
    "        if r==3:\n",
    "            new_r = r\n",
    "            new_c = c\n",
    "        else:\n",
    "            new_c = 0\n",
    "            new_r = r+1\n",
    "    else:\n",
    "        new_r = r\n",
    "        new_c = c+1\n",
    "    return new_r, new_c"
   ]
  },
  {
   "cell_type": "code",
   "execution_count": 29,
   "metadata": {},
   "outputs": [
    {
     "name": "stdout",
     "output_type": "stream",
     "text": [
      "(0, 1)\n",
      "(1, 0)\n",
      "(2, 0)\n",
      "(3, 0)\n"
     ]
    }
   ],
   "source": [
    "#EXAMPLE \n",
    "print(get_new_r_c(0,0))\n",
    "print(get_new_r_c(0,3))\n",
    "print(get_new_r_c(1,3))\n",
    "print(get_new_r_c(2,3))"
   ]
  },
  {
   "cell_type": "code",
   "execution_count": 30,
   "metadata": {},
   "outputs": [],
   "source": [
    "def get_legal_for_cell(cell_r, cell_c, new_Grid):\n",
    "    if new_Grid[cell_r][cell_c]!='.':\n",
    "        return [None],[None],[None]\n",
    "\n",
    "    map = {}\n",
    "    all_vec = get_all_related_cells(new_Grid)\n",
    "    for a in all_vec:\n",
    "        if (cell_r, cell_c) in a.keys():\n",
    "            map.update(a)          # no duplicates\n",
    "\n",
    "    exist = []\n",
    "    for m in map:                  # get key from keys\n",
    "        if not map[m]=='.':\n",
    "            exist.append(map[m])\n",
    "\n",
    "    rest = list(set(elements) - set(exist))\n",
    "    return rest, exist, map"
   ]
  },
  {
   "cell_type": "code",
   "execution_count": 31,
   "metadata": {},
   "outputs": [
    {
     "name": "stdout",
     "output_type": "stream",
     "text": [
      "[None]\n",
      "[None]\n",
      "[None]\n"
     ]
    }
   ],
   "source": [
    "r = 0\n",
    "c = 0\n",
    "legal_for_cell, exist, map = get_legal_for_cell(r, c, Grid)\n",
    "print(map)\n",
    "print(exist)\n",
    "print(legal_for_cell)"
   ]
  },
  {
   "cell_type": "code",
   "execution_count": 33,
   "metadata": {},
   "outputs": [],
   "source": [
    "def is_complete(new_Grid):\n",
    "    grid_complete = True\n",
    "    for r in new_Grid:\n",
    "        grid_complete = grid_complete and not ('.' in r)\n",
    "    return grid_complete\n",
    "\n",
    "def print_grid(new_Grid):\n",
    "    for item in new_Grid:\n",
    "        print(item)\n",
    "    print()"
   ]
  },
  {
   "cell_type": "code",
   "execution_count": 34,
   "metadata": {},
   "outputs": [
    {
     "name": "stdout",
     "output_type": "stream",
     "text": [
      "False\n"
     ]
    }
   ],
   "source": [
    "\n",
    "print(is_complete(Grid))"
   ]
  },
  {
   "cell_type": "code",
   "execution_count": 35,
   "metadata": {},
   "outputs": [
    {
     "name": "stdout",
     "output_type": "stream",
     "text": [
      "['3', '4', '1', '.']\n",
      "['.', '2', '.', '.']\n",
      "['.', '.', '2', '.']\n",
      "['.', '1', '4', '3']\n",
      "\n"
     ]
    }
   ],
   "source": [
    "print_grid(Grid)"
   ]
  },
  {
   "cell_type": "code",
   "execution_count": 36,
   "metadata": {},
   "outputs": [
    {
     "name": "stdout",
     "output_type": "stream",
     "text": [
      "x: [50, 2, 150, 200]\n",
      "y: [50, 2, 150, 200]\n",
      "z: [1, 2, 3]\n"
     ]
    }
   ],
   "source": [
    "#DEEPCOPY  STRATEGY\n",
    "\n",
    "from copy import deepcopy\n",
    "x = [1,2,3]\n",
    "y = x\n",
    "z = deepcopy(x)\n",
    "x[0] = 50\n",
    "x[2] = 150\n",
    "x.append(200)\n",
    "print('x:',x)\n",
    "print('y:',y)\n",
    "print('z:',z)\n"
   ]
  },
  {
   "cell_type": "code",
   "execution_count": 37,
   "metadata": {
    "scrolled": true
   },
   "outputs": [
    {
     "name": "stdout",
     "output_type": "stream",
     "text": [
      "Incomplete:\n",
      "['3', '4', '1', '.']\n",
      "['.', '2', '.', '.']\n",
      "['.', '.', '2', '.']\n",
      "['.', '1', '4', '3']\n",
      "\n",
      "Complete:\n",
      "['3', '4', '1', '2']\n",
      "['1', '2', '3', '4']\n",
      "['4', '3', '2', '1']\n",
      "['2', '1', '4', '3']\n",
      "\n"
     ]
    }
   ],
   "source": [
    "def solve_step_in_sudoko(last_Grid, r, c):\n",
    "    if is_complete(last_Grid):\n",
    "        print('Complete:')\n",
    "        print_grid(last_Grid)\n",
    "        return 0\n",
    "    \n",
    "    legal_for_cell,_ ,_ = get_legal_for_cell(r, c, last_Grid)\n",
    "\n",
    "    for item in legal_for_cell:\n",
    "        new_Grid = deepcopy(last_Grid)\n",
    "        if last_Grid[r][c]=='.':\n",
    "            new_Grid[r][c] = item\n",
    "        new_r, new_c = get_new_r_c(r, c)\n",
    "        \n",
    "        solve_step_in_sudoko(new_Grid, new_r, new_c)\n",
    "\n",
    "print('Incomplete:')\n",
    "print_grid(Grid)\n",
    "solve_step_in_sudoko(Grid, 0, 0)"
   ]
  },
  {
   "cell_type": "code",
   "execution_count": null,
   "metadata": {},
   "outputs": [],
   "source": []
  }
 ],
 "metadata": {
  "kernelspec": {
   "display_name": "Python 3",
   "language": "python",
   "name": "python3"
  },
  "language_info": {
   "codemirror_mode": {
    "name": "ipython",
    "version": 3
   },
   "file_extension": ".py",
   "mimetype": "text/x-python",
   "name": "python",
   "nbconvert_exporter": "python",
   "pygments_lexer": "ipython3",
   "version": "3.7.6"
  }
 },
 "nbformat": 4,
 "nbformat_minor": 4
}
