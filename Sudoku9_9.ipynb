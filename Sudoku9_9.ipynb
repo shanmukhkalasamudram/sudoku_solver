{
 "cells": [
  {
   "cell_type": "code",
   "execution_count": 22,
   "metadata": {},
   "outputs": [],
   "source": [
    "#enter your sudoku puzzle 9*9 matrix, Replace with 0 if its need to be defined and click on run \n",
    "from copy import deepcopy\n",
    "\n",
    "SIZE = 9\n",
    "\n",
    "Grid = [[6, 0, 0, 0,0, 8, 5, 0, 0],[0,0,3,7,0,0,9,0,0],\n",
    "        [0,9,0,0,0,0,2,0,6],[0,0,0,1,9,0,0,0,4],\n",
    "        [0,0,1,0,7,0,3,0,0],[5,0,0,0,8,2,0,0,0],\n",
    "        [9,0,5,0,0,0,0,1,0],[0,0,2,0,0,9,4,0,0,],\n",
    "        [0,0,6,2,0,0,0,0,3] ]\n",
    "\n",
    "elements = ['1','2','3','4','5','6','7','8','9']"
   ]
  },
  {
   "cell_type": "code",
   "execution_count": 23,
   "metadata": {},
   "outputs": [],
   "source": [
    "def get_rows(new_Grid):\n",
    "    rows = []\n",
    "    for i in range(0,9):\n",
    "        row = {}\n",
    "        for y in range(0,9):\n",
    "            row[(i,y)] = new_Grid[i][y]\n",
    "        rows.append(row)\n",
    "    return rows\n"
   ]
  },
  {
   "cell_type": "code",
   "execution_count": 24,
   "metadata": {},
   "outputs": [
    {
     "name": "stdout",
     "output_type": "stream",
     "text": [
      "{(0, 0): 6, (0, 1): 0, (0, 2): 0, (0, 3): 0, (0, 4): 0, (0, 5): 8, (0, 6): 5, (0, 7): 0, (0, 8): 0}\n",
      "{(1, 0): 0, (1, 1): 0, (1, 2): 3, (1, 3): 7, (1, 4): 0, (1, 5): 0, (1, 6): 9, (1, 7): 0, (1, 8): 0}\n",
      "{(2, 0): 0, (2, 1): 9, (2, 2): 0, (2, 3): 0, (2, 4): 0, (2, 5): 0, (2, 6): 2, (2, 7): 0, (2, 8): 6}\n",
      "{(3, 0): 0, (3, 1): 0, (3, 2): 0, (3, 3): 1, (3, 4): 9, (3, 5): 0, (3, 6): 0, (3, 7): 0, (3, 8): 4}\n",
      "{(4, 0): 0, (4, 1): 0, (4, 2): 1, (4, 3): 0, (4, 4): 7, (4, 5): 0, (4, 6): 3, (4, 7): 0, (4, 8): 0}\n",
      "{(5, 0): 5, (5, 1): 0, (5, 2): 0, (5, 3): 0, (5, 4): 8, (5, 5): 2, (5, 6): 0, (5, 7): 0, (5, 8): 0}\n",
      "{(6, 0): 9, (6, 1): 0, (6, 2): 5, (6, 3): 0, (6, 4): 0, (6, 5): 0, (6, 6): 0, (6, 7): 1, (6, 8): 0}\n",
      "{(7, 0): 0, (7, 1): 0, (7, 2): 2, (7, 3): 0, (7, 4): 0, (7, 5): 9, (7, 6): 4, (7, 7): 0, (7, 8): 0}\n",
      "{(8, 0): 0, (8, 1): 0, (8, 2): 6, (8, 3): 2, (8, 4): 0, (8, 5): 0, (8, 6): 0, (8, 7): 0, (8, 8): 3}\n"
     ]
    }
   ],
   "source": [
    "#existing rows\n",
    "rows = get_rows(Grid)\n",
    "for r in rows:\n",
    "    \n",
    "    print(r)"
   ]
  },
  {
   "cell_type": "code",
   "execution_count": 25,
   "metadata": {},
   "outputs": [],
   "source": [
    "def get_cols(new_Grid):\n",
    "    cols = []\n",
    "    for i in range(0,9):\n",
    "        col = {}\n",
    "        for x in range(0,9):\n",
    "            col[(x,i)] = new_Grid[x][i]\n",
    "        cols.append(col)\n",
    "    return cols"
   ]
  },
  {
   "cell_type": "code",
   "execution_count": 26,
   "metadata": {},
   "outputs": [
    {
     "name": "stdout",
     "output_type": "stream",
     "text": [
      "{(0, 0): 6, (1, 0): 0, (2, 0): 0, (3, 0): 0, (4, 0): 0, (5, 0): 5, (6, 0): 9, (7, 0): 0, (8, 0): 0}\n",
      "{(0, 1): 0, (1, 1): 0, (2, 1): 9, (3, 1): 0, (4, 1): 0, (5, 1): 0, (6, 1): 0, (7, 1): 0, (8, 1): 0}\n",
      "{(0, 2): 0, (1, 2): 3, (2, 2): 0, (3, 2): 0, (4, 2): 1, (5, 2): 0, (6, 2): 5, (7, 2): 2, (8, 2): 6}\n",
      "{(0, 3): 0, (1, 3): 7, (2, 3): 0, (3, 3): 1, (4, 3): 0, (5, 3): 0, (6, 3): 0, (7, 3): 0, (8, 3): 2}\n",
      "{(0, 4): 0, (1, 4): 0, (2, 4): 0, (3, 4): 9, (4, 4): 7, (5, 4): 8, (6, 4): 0, (7, 4): 0, (8, 4): 0}\n",
      "{(0, 5): 8, (1, 5): 0, (2, 5): 0, (3, 5): 0, (4, 5): 0, (5, 5): 2, (6, 5): 0, (7, 5): 9, (8, 5): 0}\n",
      "{(0, 6): 5, (1, 6): 9, (2, 6): 2, (3, 6): 0, (4, 6): 3, (5, 6): 0, (6, 6): 0, (7, 6): 4, (8, 6): 0}\n",
      "{(0, 7): 0, (1, 7): 0, (2, 7): 0, (3, 7): 0, (4, 7): 0, (5, 7): 0, (6, 7): 1, (7, 7): 0, (8, 7): 0}\n",
      "{(0, 8): 0, (1, 8): 0, (2, 8): 6, (3, 8): 4, (4, 8): 0, (5, 8): 0, (6, 8): 0, (7, 8): 0, (8, 8): 3}\n"
     ]
    }
   ],
   "source": [
    "# Existing columns \n",
    "cols = get_cols(Grid)\n",
    "for c in cols:\n",
    "    print(c)"
   ]
  },
  {
   "cell_type": "code",
   "execution_count": 27,
   "metadata": {},
   "outputs": [],
   "source": [
    "def print_sudoku():\n",
    "    for i in Grid:\n",
    "        print (i)\n"
   ]
  },
  {
   "cell_type": "code",
   "execution_count": 28,
   "metadata": {},
   "outputs": [],
   "source": [
    "#function to check if all cells are assigned or not\n",
    "#if there is any unassigned cell\n",
    "\n",
    "def number_unassigned(row, col):\n",
    "    num_unassign = 0\n",
    "    for i in range(0,SIZE):\n",
    "        for j in range (0,SIZE):\n",
    "            #cell is unassigned\n",
    "            if Grid[i][j] == 0:\n",
    "                row = i\n",
    "                col = j\n",
    "                num_unassign = 1\n",
    "                a = [row, col, num_unassign]\n",
    "                return a\n",
    "    a = [-1, -1, num_unassign]\n",
    "    return a\n"
   ]
  },
  {
   "cell_type": "code",
   "execution_count": 29,
   "metadata": {},
   "outputs": [],
   "source": [
    "#function to check if we can put a\n",
    "#value in a paticular cell or not\n",
    "def is_safe(n, r, c):\n",
    "    #checking in row\n",
    "    for i in range(0,SIZE):\n",
    "        #there is a cell with same value\n",
    "        if Grid[r][i] == n:\n",
    "            return False\n",
    "    #checking in column\n",
    "    for i in range(0,SIZE):\n",
    "        #there is a cell with same value\n",
    "        if Grid[i][c] == n:\n",
    "            return False\n",
    "    row_start = (r//3)*3\n",
    "    col_start = (c//3)*3;\n",
    "    #checking submatrix\n",
    "    for i in range(row_start,row_start+3):\n",
    "        for j in range(col_start,col_start+3):\n",
    "            if Grid[i][j]==n:\n",
    "                return False\n",
    "    return True\n"
   ]
  },
  {
   "cell_type": "code",
   "execution_count": 30,
   "metadata": {},
   "outputs": [
    {
     "name": "stdout",
     "output_type": "stream",
     "text": [
      "[6, 7, 4, 9, 2, 8, 5, 3, 1]\n",
      "[2, 5, 3, 7, 6, 1, 9, 4, 8]\n",
      "[1, 9, 8, 4, 5, 3, 2, 7, 6]\n",
      "[3, 2, 7, 1, 9, 6, 8, 5, 4]\n",
      "[8, 6, 1, 5, 7, 4, 3, 2, 9]\n",
      "[5, 4, 9, 3, 8, 2, 1, 6, 7]\n",
      "[9, 3, 5, 8, 4, 7, 6, 1, 2]\n",
      "[7, 1, 2, 6, 3, 9, 4, 8, 5]\n",
      "[4, 8, 6, 2, 1, 5, 7, 9, 3]\n"
     ]
    }
   ],
   "source": [
    "#function to check if we can put a\n",
    "#value in a paticular cell or not\n",
    "def solve_sudoku():\n",
    "    row = 0\n",
    "    col = 0\n",
    "    #if all cells are assigned then the sudoku is already solved\n",
    "    #pass by reference because number_unassigned will change the values of row and col\n",
    "    a = number_unassigned(row, col)\n",
    "    if a[2] == 0:\n",
    "        return True\n",
    "    row = a[0]\n",
    "    col = a[1]\n",
    "    #number between 1 to 9\n",
    "    for i in range(1,10):\n",
    "        #if we can assign i to the cell or not\n",
    "        #the cell is matrix[row][col]\n",
    "        if is_safe(i, row, col):\n",
    "            Grid[row][col] = i\n",
    "            #backtracking\n",
    "            if solve_sudoku():\n",
    "                return True\n",
    "            #f we can't proceed with this solution\n",
    "            #reassign the cell\n",
    "            Grid[row][col]=0\n",
    "    return False\n",
    "\n",
    "if solve_sudoku():\n",
    "    print_sudoku()\n",
    "else:\n",
    "    print(\"No solution\")"
   ]
  },
  {
   "cell_type": "code",
   "execution_count": null,
   "metadata": {},
   "outputs": [],
   "source": []
  }
 ],
 "metadata": {
  "kernelspec": {
   "display_name": "Python 3",
   "language": "python",
   "name": "python3"
  },
  "language_info": {
   "codemirror_mode": {
    "name": "ipython",
    "version": 3
   },
   "file_extension": ".py",
   "mimetype": "text/x-python",
   "name": "python",
   "nbconvert_exporter": "python",
   "pygments_lexer": "ipython3",
   "version": "3.7.6"
  }
 },
 "nbformat": 4,
 "nbformat_minor": 4
}
